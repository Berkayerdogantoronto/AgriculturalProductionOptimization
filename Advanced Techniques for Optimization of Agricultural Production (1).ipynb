{
 "cells": [
  {
   "cell_type": "code",
   "execution_count": 55,
   "id": "053062e6",
   "metadata": {},
   "outputs": [],
   "source": [
    "import pandas as pd\n",
    "import numpy as np \n",
    "import matplotlib.pyplot as plt\n",
    "import seaborn as sns\n",
    "plt.style.use('Solarize_Light2') \n",
    "#for interactivity \n",
    "from ipywidgets import interact \n",
    "\n",
    "Data = pd.read_csv(\"AgriculturalData.csv\")\n",
    "import warnings\n",
    "warnings.filterwarnings(\"ignore\", category=UserWarning)"
   ]
  },
  {
   "cell_type": "code",
   "execution_count": 56,
   "id": "39ab9870",
   "metadata": {},
   "outputs": [
    {
     "data": {
      "text/plain": [
       "(2200, 8)"
      ]
     },
     "execution_count": 56,
     "metadata": {},
     "output_type": "execute_result"
    }
   ],
   "source": [
    "# 2200 rows and 8 columns\n",
    "Data.shape"
   ]
  },
  {
   "cell_type": "markdown",
   "id": "33085b8a",
   "metadata": {},
   "source": [
    "# Exploratory Data Analysis\n"
   ]
  },
  {
   "cell_type": "code",
   "execution_count": 57,
   "id": "ca051865",
   "metadata": {},
   "outputs": [
    {
     "data": {
      "text/html": [
       "<div>\n",
       "<style scoped>\n",
       "    .dataframe tbody tr th:only-of-type {\n",
       "        vertical-align: middle;\n",
       "    }\n",
       "\n",
       "    .dataframe tbody tr th {\n",
       "        vertical-align: top;\n",
       "    }\n",
       "\n",
       "    .dataframe thead th {\n",
       "        text-align: right;\n",
       "    }\n",
       "</style>\n",
       "<table border=\"1\" class=\"dataframe\">\n",
       "  <thead>\n",
       "    <tr style=\"text-align: right;\">\n",
       "      <th></th>\n",
       "      <th>N</th>\n",
       "      <th>P</th>\n",
       "      <th>K</th>\n",
       "      <th>temperature</th>\n",
       "      <th>humidity</th>\n",
       "      <th>ph</th>\n",
       "      <th>rainfall</th>\n",
       "      <th>label</th>\n",
       "    </tr>\n",
       "  </thead>\n",
       "  <tbody>\n",
       "    <tr>\n",
       "      <th>0</th>\n",
       "      <td>90</td>\n",
       "      <td>42</td>\n",
       "      <td>43</td>\n",
       "      <td>20.879744</td>\n",
       "      <td>82.002744</td>\n",
       "      <td>6.502985</td>\n",
       "      <td>202.935536</td>\n",
       "      <td>rice</td>\n",
       "    </tr>\n",
       "    <tr>\n",
       "      <th>1</th>\n",
       "      <td>85</td>\n",
       "      <td>58</td>\n",
       "      <td>41</td>\n",
       "      <td>21.770462</td>\n",
       "      <td>80.319644</td>\n",
       "      <td>7.038096</td>\n",
       "      <td>226.655537</td>\n",
       "      <td>rice</td>\n",
       "    </tr>\n",
       "    <tr>\n",
       "      <th>2</th>\n",
       "      <td>60</td>\n",
       "      <td>55</td>\n",
       "      <td>44</td>\n",
       "      <td>23.004459</td>\n",
       "      <td>82.320763</td>\n",
       "      <td>7.840207</td>\n",
       "      <td>263.964248</td>\n",
       "      <td>rice</td>\n",
       "    </tr>\n",
       "    <tr>\n",
       "      <th>3</th>\n",
       "      <td>74</td>\n",
       "      <td>35</td>\n",
       "      <td>40</td>\n",
       "      <td>26.491096</td>\n",
       "      <td>80.158363</td>\n",
       "      <td>6.980401</td>\n",
       "      <td>242.864034</td>\n",
       "      <td>rice</td>\n",
       "    </tr>\n",
       "    <tr>\n",
       "      <th>4</th>\n",
       "      <td>78</td>\n",
       "      <td>42</td>\n",
       "      <td>42</td>\n",
       "      <td>20.130175</td>\n",
       "      <td>81.604873</td>\n",
       "      <td>7.628473</td>\n",
       "      <td>262.717340</td>\n",
       "      <td>rice</td>\n",
       "    </tr>\n",
       "    <tr>\n",
       "      <th>...</th>\n",
       "      <td>...</td>\n",
       "      <td>...</td>\n",
       "      <td>...</td>\n",
       "      <td>...</td>\n",
       "      <td>...</td>\n",
       "      <td>...</td>\n",
       "      <td>...</td>\n",
       "      <td>...</td>\n",
       "    </tr>\n",
       "    <tr>\n",
       "      <th>2195</th>\n",
       "      <td>107</td>\n",
       "      <td>34</td>\n",
       "      <td>32</td>\n",
       "      <td>26.774637</td>\n",
       "      <td>66.413269</td>\n",
       "      <td>6.780064</td>\n",
       "      <td>177.774507</td>\n",
       "      <td>coffee</td>\n",
       "    </tr>\n",
       "    <tr>\n",
       "      <th>2196</th>\n",
       "      <td>99</td>\n",
       "      <td>15</td>\n",
       "      <td>27</td>\n",
       "      <td>27.417112</td>\n",
       "      <td>56.636362</td>\n",
       "      <td>6.086922</td>\n",
       "      <td>127.924610</td>\n",
       "      <td>coffee</td>\n",
       "    </tr>\n",
       "    <tr>\n",
       "      <th>2197</th>\n",
       "      <td>118</td>\n",
       "      <td>33</td>\n",
       "      <td>30</td>\n",
       "      <td>24.131797</td>\n",
       "      <td>67.225123</td>\n",
       "      <td>6.362608</td>\n",
       "      <td>173.322839</td>\n",
       "      <td>coffee</td>\n",
       "    </tr>\n",
       "    <tr>\n",
       "      <th>2198</th>\n",
       "      <td>117</td>\n",
       "      <td>32</td>\n",
       "      <td>34</td>\n",
       "      <td>26.272418</td>\n",
       "      <td>52.127394</td>\n",
       "      <td>6.758793</td>\n",
       "      <td>127.175293</td>\n",
       "      <td>coffee</td>\n",
       "    </tr>\n",
       "    <tr>\n",
       "      <th>2199</th>\n",
       "      <td>104</td>\n",
       "      <td>18</td>\n",
       "      <td>30</td>\n",
       "      <td>23.603016</td>\n",
       "      <td>60.396475</td>\n",
       "      <td>6.779833</td>\n",
       "      <td>140.937041</td>\n",
       "      <td>coffee</td>\n",
       "    </tr>\n",
       "  </tbody>\n",
       "</table>\n",
       "<p>2200 rows × 8 columns</p>\n",
       "</div>"
      ],
      "text/plain": [
       "        N   P   K  temperature   humidity        ph    rainfall   label\n",
       "0      90  42  43    20.879744  82.002744  6.502985  202.935536    rice\n",
       "1      85  58  41    21.770462  80.319644  7.038096  226.655537    rice\n",
       "2      60  55  44    23.004459  82.320763  7.840207  263.964248    rice\n",
       "3      74  35  40    26.491096  80.158363  6.980401  242.864034    rice\n",
       "4      78  42  42    20.130175  81.604873  7.628473  262.717340    rice\n",
       "...   ...  ..  ..          ...        ...       ...         ...     ...\n",
       "2195  107  34  32    26.774637  66.413269  6.780064  177.774507  coffee\n",
       "2196   99  15  27    27.417112  56.636362  6.086922  127.924610  coffee\n",
       "2197  118  33  30    24.131797  67.225123  6.362608  173.322839  coffee\n",
       "2198  117  32  34    26.272418  52.127394  6.758793  127.175293  coffee\n",
       "2199  104  18  30    23.603016  60.396475  6.779833  140.937041  coffee\n",
       "\n",
       "[2200 rows x 8 columns]"
      ]
     },
     "execution_count": 57,
     "metadata": {},
     "output_type": "execute_result"
    }
   ],
   "source": [
    "Data"
   ]
  },
  {
   "cell_type": "code",
   "execution_count": 58,
   "id": "a1c73a46",
   "metadata": {},
   "outputs": [
    {
     "data": {
      "text/plain": [
       "N              0\n",
       "P              0\n",
       "K              0\n",
       "temperature    0\n",
       "humidity       0\n",
       "ph             0\n",
       "rainfall       0\n",
       "label          0\n",
       "dtype: int64"
      ]
     },
     "execution_count": 58,
     "metadata": {},
     "output_type": "execute_result"
    }
   ],
   "source": [
    "Data.isnull().sum()\n",
    "# Checking if there is missing value.\n",
    "## Note : If there is null values we can use mean to replace the missing values if it is numerical, \n",
    "## if it is categorical use mode, if there is huge outliers we can use median. "
   ]
  },
  {
   "cell_type": "code",
   "execution_count": 59,
   "id": "0e261dc4",
   "metadata": {},
   "outputs": [
    {
     "data": {
      "text/plain": [
       "label\n",
       "rice           100\n",
       "maize          100\n",
       "jute           100\n",
       "cotton         100\n",
       "coconut        100\n",
       "papaya         100\n",
       "orange         100\n",
       "apple          100\n",
       "muskmelon      100\n",
       "watermelon     100\n",
       "grapes         100\n",
       "mango          100\n",
       "banana         100\n",
       "pomegranate    100\n",
       "lentil         100\n",
       "blackgram      100\n",
       "mungbean       100\n",
       "mothbeans      100\n",
       "pigeonpeas     100\n",
       "kidneybeans    100\n",
       "chickpea       100\n",
       "coffee         100\n",
       "Name: count, dtype: int64"
      ]
     },
     "execution_count": 59,
     "metadata": {},
     "output_type": "execute_result"
    }
   ],
   "source": [
    "# Checking the crops present in this data set \n",
    "Data[\"label\"].value_counts()"
   ]
  },
  {
   "cell_type": "code",
   "execution_count": 60,
   "id": "9fe5babb",
   "metadata": {},
   "outputs": [
    {
     "name": "stdout",
     "output_type": "stream",
     "text": [
      "Average Ratio of Nitrogen in the Soil : 50.55\n",
      "Average Ratio of Phosphorous in the Soil : 53.36\n",
      "Average Ratio of Potassium in the Soil : 48.15\n",
      "Average Temperature in celcius : 25.62\n",
      "Average Relative Humidity % : 71.48\n",
      "Average PH value in the Soil : 6.47\n",
      "Average Rainfall in mm : 103.46\n"
     ]
    }
   ],
   "source": [
    "# We are checking the summary for all the crops \n",
    "print(\"Average Ratio of Nitrogen in the Soil : {0:.2f}\".format(Data[\"N\"].mean()))\n",
    "print(\"Average Ratio of Phosphorous in the Soil : {0:.2f}\".format(Data[\"P\"].mean()))\n",
    "print(\"Average Ratio of Potassium in the Soil : {0:.2f}\".format(Data[\"K\"].mean()))\n",
    "print(\"Average Temperature in celcius : {0:.2f}\".format(Data[\"temperature\"].mean()))\n",
    "print(\"Average Relative Humidity % : {0:.2f}\".format(Data[\"humidity\"].mean()))\n",
    "print(\"Average PH value in the Soil : {0:.2f}\".format(Data[\"ph\"].mean()))\n",
    "print(\"Average Rainfall in mm : {0:.2f}\".format(Data[\"rainfall\"].mean()))\n"
   ]
  },
  {
   "cell_type": "code",
   "execution_count": 61,
   "id": "1f24d49a",
   "metadata": {},
   "outputs": [
    {
     "data": {
      "application/vnd.jupyter.widget-view+json": {
       "model_id": "1b3856bbba134b809d56cf53fbed556a",
       "version_major": 2,
       "version_minor": 0
      },
      "text/plain": [
       "interactive(children=(Dropdown(description='crops', options=('rice', 'maize', 'jute', 'cotton', 'coconut', 'pa…"
      ]
     },
     "metadata": {},
     "output_type": "display_data"
    }
   ],
   "source": [
    "# Lets Check the Summary Statistics for each of the Crops using interact :)\n",
    "@interact\n",
    "def summary(crops = list(Data['label'].value_counts().index)):\n",
    "    x = Data[Data['label'] == crops]\n",
    "    print(\"________________________________________\")\n",
    "    print(\"\\033[1;32mStatistics for Nitrogen\\033[0m\")\n",
    "    print(\"Minimum Nitrogen Required :\", x[\"N\"].min())\n",
    "    print(\"Average Nitrogen Required :\", x[\"N\"].mean())\n",
    "    print(\"Max Nitrogen Required :\", x[\"N\"].max())\n",
    "    print(\"________________________________________\")\n",
    "    print(\"\\033[1;32mStatistics for Phosphorous\\033[0m\")\n",
    "    print(\"Minimum Phosphorous Required :\", x[\"P\"].min())\n",
    "    print(\"Average Phosphorous Required :\", x[\"P\"].mean())\n",
    "    print(\"Max Phosphorous Required :\", x[\"P\"].max())\n",
    "    print(\"________________________________________\")\n",
    "    print(\"\\033[1;32mStatistics for Potassium\\033[0m\")\n",
    "    print(\"Minimum Potassium Required :\", x[\"K\"].min())\n",
    "    print(\"Average Potassium Required :\", x[\"K\"].mean())\n",
    "    print(\"Max Potassium Required :\", x[\"K\"].max())\n",
    "    print(\"________________________________________\")\n",
    "    print(\"\\033[1;32mStatistics for Temperature\\033[0m\")\n",
    "    print(\"Minimum Temperature Required :\", x[\"temperature\"].min())\n",
    "    print(\"Average Temperature Required :\", x[\"temperature\"].mean())\n",
    "    print(\"Max Temperature Required :\", x[\"temperature\"].max())\n",
    "    print(\"________________________________________\")\n",
    "    print(\"\\033[1;32mStatistics for Humidity\\033[0m\")\n",
    "    print(\"Minimum Humidity Required :\", x[\"humidity\"].min())\n",
    "    print(\"Average Humidity Required :\", x[\"humidity\"].mean())\n",
    "    print(\"Max Humidity Required :\", x[\"humidity\"].max())\n",
    "    print(\"________________________________________\")\n",
    "    print(\"\\033[1;32mStatistics for PH\\033[0m\")\n",
    "    print(\"Minimum PH Required :\", x[\"ph\"].min())\n",
    "    print(\"Average PH Required :\", x[\"ph\"].mean())\n",
    "    print(\"Max PH Required :\", x[\"ph\"].max())\n",
    "    print(\"________________________________________\")\n",
    "    print(\"\\033[1;32mStatistics for Rainfall\\033[0m\")\n",
    "    print(\"Minimum RainfallRequired :\", x[\"rainfall\"].min())\n",
    "    print(\"Average Rainfall Required :\", x[\"rainfall\"].mean())\n",
    "    print(\"Max Rainfall Required :\", x[\"rainfall\"].max())"
   ]
  },
  {
   "cell_type": "code",
   "execution_count": 62,
   "id": "bc083425",
   "metadata": {},
   "outputs": [
    {
     "data": {
      "application/vnd.jupyter.widget-view+json": {
       "model_id": "d081e765e4a94b6eae0bdd00d062cb3e",
       "version_major": 2,
       "version_minor": 0
      },
      "text/plain": [
       "interactive(children=(Dropdown(description='conditions', options=('N', 'P', 'K', 'temperature', 'ph', 'humidit…"
      ]
     },
     "metadata": {},
     "output_type": "display_data"
    }
   ],
   "source": [
    "## Let's compare the Average requirement for each crops with average conditions.\n",
    "@interact\n",
    "def compare(conditions =[\"N\",\"P\",\"K\",\"temperature\",\"ph\",'humidity',\"rainfall\"]):\n",
    "    print(\"\\033[1;32mAverage Value For\\033[0m\", conditions, \"is : {0:.2f}\".format(Data[conditions].mean()))\n",
    "    print(\"________________________________________\")\n",
    "    print(\"Rice : {0:.2f}\".format(Data[(Data[\"label\"] == \"rice\" )][conditions].mean()))\n",
    "    print(\"Black Grams : {0:.2f}\".format(Data[(Data[\"label\"] == \"blackgram\" )][conditions].mean()))\n",
    "    print(\"Banana : {0:.2f}\".format(Data[(Data[\"label\"] == \"banana\" )][conditions].mean()))\n",
    "    print(\"Jute : {0:.2f}\".format(Data[(Data[\"label\"] == \"jute\" )][conditions].mean()))\n",
    "    print(\"Coconut : {0:.2f}\".format(Data[(Data[\"label\"] == \"coconut\" )][conditions].mean()))\n",
    "    print(\"Apple : {0:.2f}\".format(Data[(Data[\"label\"] == \"apple\" )][conditions].mean()))\n",
    "    print(\"Papaya : {0:.2f}\".format(Data[(Data[\"label\"] == \"papaya\" )][conditions].mean()))\n",
    "    print(\"Muskmelon : {0:.2f}\".format(Data[(Data[\"label\"] == \"muskmelon\" )][conditions].mean()))\n",
    "    print(\"Grapes : {0:.2f}\".format(Data[(Data[\"label\"] == \"grapes\" )][conditions].mean()))\n",
    "    print(\"Watermelon : {0:.2f}\".format(Data[(Data[\"label\"] == \"watermelon\" )][conditions].mean()))\n",
    "    print(\"Kidney Beans : {0:.2f}\".format(Data[(Data[\"label\"] == \"kidneybeans\" )][conditions].mean()))\n",
    "    print(\"Mung Beans: {0:.2f}\".format(Data[(Data[\"label\"] == \"mungbean\" )][conditions].mean()))\n",
    "    print(\"Oranges : {0:.2f}\".format(Data[(Data[\"label\"] == \"orange\" )][conditions].mean()))\n",
    "    print(\"Chick Peas : {0:.2f}\".format(Data[(Data[\"label\"] == \"chickpea\" )][conditions].mean()))\n",
    "    print(\"Lentils : {0:.2f}\".format(Data[(Data[\"label\"] == \"lentil\" )][conditions].mean()))\n",
    "    print(\"Cotton : {0:.2f}\".format(Data[(Data[\"label\"] == \"cotton\" )][conditions].mean()))\n",
    "    print(\"Maize : {0:.2f}\".format(Data[(Data[\"label\"] == \"maize\")][conditions].mean()))\n",
    "    print(\"Moth Beans : {0:.2f}\".format(Data[(Data[\"label\"] == \"mothbeans\" )][conditions].mean()))\n",
    "    print(\"Pigeon Peas: {0:.2f}\".format(Data[(Data[\"label\"] == \"pigeonpeas\" )][conditions].mean()))\n",
    "    print(\"Mango : {0:.2f}\".format(Data[(Data[\"label\"] == \"mango\" )][conditions].mean()))\n",
    "    print(\"Pomegranate : {0:.2f}\".format(Data[(Data[\"label\"] == \"pomegranate\")][conditions].mean()))\n",
    "    print(\"Coffee : {0:.2f}\".format(Data[(Data[\"label\"] == \"coffee\" )][conditions].mean()))"
   ]
  },
  {
   "cell_type": "code",
   "execution_count": 63,
   "id": "263169d7",
   "metadata": {
    "scrolled": false
   },
   "outputs": [
    {
     "data": {
      "application/vnd.jupyter.widget-view+json": {
       "model_id": "4fe23ad723974e9b8c998b562439a5e4",
       "version_major": 2,
       "version_minor": 0
      },
      "text/plain": [
       "interactive(children=(Dropdown(description='conditions', options=('N', 'P', 'K', 'temperature', 'ph', 'humidit…"
      ]
     },
     "metadata": {},
     "output_type": "display_data"
    }
   ],
   "source": [
    "# We will make this function more intutive \n",
    "@interact\n",
    "def compare(conditions =[\"N\",\"P\",\"K\",\"temperature\",\"ph\",'humidity',\"rainfall\"]):\n",
    "    print(\"\\033[1;33mCrops which require greater than average\\033[0m\", conditions, '\\n')\n",
    "    print(Data[Data[conditions] > Data[conditions].mean()][\"label\"].unique())\n",
    "    print(\"\\033[1;35m________________________________________\\033[0m\")\n",
    "    print(\"\\033[1;33mCrops which require less than average\\033[0m\", conditions, '\\n')\n",
    "    print(Data[Data[conditions] <= Data[conditions].mean()][\"label\"].unique())\n",
    "    "
   ]
  },
  {
   "cell_type": "code",
   "execution_count": 64,
   "id": "d6565224",
   "metadata": {},
   "outputs": [
    {
     "data": {
      "image/png": "[encoded data removed]",
      "text/plain": [
       "<Figure size 1080x504 with 7 Axes>"
      ]
     },
     "metadata": {},
     "output_type": "display_data"
    }
   ],
   "source": [
    " ### We will check the distribution of Agricultural Conditions\n",
    "\n",
    "plt.rcParams['figure.figsize'] = (15, 7)\n",
    "\n",
    "plt.subplot(2, 4, 1)\n",
    "sns.histplot(Data[\"N\"], color=\"blue\")\n",
    "plt.xlabel(\"Ratio of Nitrogen\", fontsize=12)\n",
    "plt.grid()\n",
    "\n",
    "plt.subplot(2, 4, 2)\n",
    "sns.histplot(Data[\"P\"], color=\"green\")\n",
    "plt.xlabel(\"Ratio of Phosphorous\", fontsize=12)\n",
    "plt.grid()\n",
    "\n",
    "plt.subplot(2, 4, 3)\n",
    "sns.histplot(Data[\"K\"], color=\"yellow\")\n",
    "plt.xlabel(\"Ratio of Potassium\", fontsize=12)\n",
    "plt.grid()\n",
    "\n",
    "plt.subplot(2, 4, 4)\n",
    "sns.histplot(Data[\"temperature\"], color=\"orange\")\n",
    "plt.xlabel(\"temperature\", fontsize=12)\n",
    "plt.grid()\n",
    "\n",
    "plt.subplot(2, 4, 5)\n",
    "sns.histplot(Data[\"rainfall\"], color=\"black\")\n",
    "plt.xlabel(\"Rainfall\", fontsize=12)\n",
    "plt.grid()\n",
    "\n",
    "plt.subplot(2, 4, 6)\n",
    "sns.histplot(Data[\"humidity\"], color=\"red\")\n",
    "plt.xlabel(\"Humidity\", fontsize=12)\n",
    "plt.grid()\n",
    "\n",
    "plt.subplot(2, 4, 7)\n",
    "sns.histplot(Data[\"ph\"], color=\"purple\")\n",
    "plt.xlabel(\"PH Level\", fontsize=12)\n",
    "plt.grid()\n",
    "\n",
    "\n",
    "plt.show()\n",
    "\n",
    "## We will find hidden patterns from this graphs. We can see that there are some crops which require very high proportions of\n",
    "## phosphorous and potassium as a distribution chart for both is highly skewed. Apart from that there are some crops which require\n",
    "## very high and very low temperatures for their growth"
   ]
  },
  {
   "cell_type": "markdown",
   "id": "f1924acb",
   "metadata": {},
   "source": [
    "## We will find hidden patterns from these graphs. \n",
    "* We can see that there are some crops which require very high proportions of phosphorous and potassium as a distribution chart for both is highly skewed. \n",
    "* Apart from that there are some crops which require very high and very low temperatures for their growth similarly there are some crops which require very high and very low ph values in the soil."
   ]
  },
  {
   "cell_type": "code",
   "execution_count": 65,
   "id": "13479bb8",
   "metadata": {},
   "outputs": [
    {
     "name": "stdout",
     "output_type": "stream",
     "text": [
      "\u001b[1;31mSome Hidden Patterns\u001b[0m\n",
      "\u001b[1;37m_____________________________\u001b[0m\n",
      "\u001b[1;34mCrops Which Requires very High Ratio of Nitrogen Content in Soil: \u001b[0m ['cotton']\n",
      "\u001b[1;34mCrops Which Requires very High Ratio of Phosphorous Content in Soil: \u001b[0m ['grapes' 'apple']\n",
      "\u001b[1;34mCrops Which Requires very High Ratio of Potassium Content in Soil: \u001b[0m ['grapes' 'apple']\n",
      "\u001b[1;34mCrops Which Requires very High Rainfall: \u001b[0m ['rice' 'papaya' 'coconut']\n",
      "\u001b[1;34mCrops Which Requires very Low Temperature: \u001b[0m ['grapes']\n",
      "\u001b[1;34mCrops Which Requires very High Temperature: \u001b[0m ['grapes' 'papaya']\n",
      "\u001b[1;34mCrops Which Requires very Low Humidity: \u001b[0m ['chickpea' 'kidneybeans']\n",
      "\u001b[1;34mCrops Which Requires very Low PH: \u001b[0m ['mothbeans']\n",
      "\u001b[1;34mCrops Which Requires very High PH: \u001b[0m ['mothbeans']\n"
     ]
    }
   ],
   "source": [
    "## We will dig into data set to find more hidden patterns.\n",
    "print(\"\\033[1;31mSome Hidden Patterns\\033[0m\")\n",
    "print(\"\\033[1;37m_____________________________\\033[0m\")\n",
    "print(\"\\033[1;34mCrops Which Requires very High Ratio of Nitrogen Content in Soil: \\033[0m\", Data[Data[\"N\"] > 120]['label'].unique())\n",
    "print(\"\\033[1;34mCrops Which Requires very High Ratio of Phosphorous Content in Soil: \\033[0m\", Data[Data[\"P\"] > 100]['label'].unique())\n",
    "print(\"\\033[1;34mCrops Which Requires very High Ratio of Potassium Content in Soil: \\033[0m\", Data[Data[\"K\"] > 200]['label'].unique())\n",
    "print(\"\\033[1;34mCrops Which Requires very High Rainfall: \\033[0m\", Data[Data[\"rainfall\"] > 200]['label'].unique())\n",
    "print(\"\\033[1;34mCrops Which Requires very Low Temperature: \\033[0m\", Data[Data[\"temperature\"] < 10]['label'].unique())\n",
    "print(\"\\033[1;34mCrops Which Requires very High Temperature: \\033[0m\", Data[Data[\"temperature\"] > 40]['label'].unique())\n",
    "print(\"\\033[1;34mCrops Which Requires very Low Humidity: \\033[0m\", Data[Data[\"humidity\"] < 20]['label'].unique())\n",
    "print(\"\\033[1;34mCrops Which Requires very Low PH: \\033[0m\", Data[Data[\"ph\"] < 4]['label'].unique())\n",
    "print(\"\\033[1;34mCrops Which Requires very High PH: \\033[0m\", Data[Data[\"ph\"] > 9 ]['label'].unique())"
   ]
  },
  {
   "cell_type": "markdown",
   "id": "4fe59485",
   "metadata": {},
   "source": [
    "# I can see that cotton requires nitrogen in huge quantity whereas apples and grapes both require high quantity of phosphorous and potassium. Also crops such as rice, papaya and coconout require huge rainfall, then we have grapes which require very low rainfall compared to all other crops. Mothbeans can be grown in both low and high ph values."
   ]
  },
  {
   "cell_type": "code",
   "execution_count": 66,
   "id": "204ba1a5",
   "metadata": {},
   "outputs": [
    {
     "name": "stdout",
     "output_type": "stream",
     "text": [
      "\u001b[1;31mSummer Crops\u001b[0m\n",
      "['pigeonpeas' 'mothbeans' 'blackgram' 'mango' 'grapes' 'orange' 'papaya']\n",
      "\u001b[1;35m_____________________________\u001b[0m\n",
      "\u001b[1;31mWinter Crops\u001b[0m\n",
      "['maize' 'pigeonpeas' 'lentil' 'pomegranate' 'grapes' 'orange']\n",
      "\u001b[1;35m_____________________________\u001b[0m\n",
      "\u001b[1;31mRainy Crops\u001b[0m\n",
      "['rice' 'papaya' 'coconut']\n",
      "\u001b[1;35m_____________________________\u001b[0m\n"
     ]
    }
   ],
   "source": [
    "### Let s check which crops can only be grown in Summer season, Winter Season and rainy season.\n",
    "\n",
    "print(\"\\033[1;31mSummer Crops\\033[0m\")\n",
    "print(Data[(Data[\"temperature\"] > 30) & (Data[\"humidity\"] > 50)]['label'].unique())\n",
    "print(\"\\033[1;35m_____________________________\\033[0m\")\n",
    "print(\"\\033[1;31mWinter Crops\\033[0m\")\n",
    "print(Data[(Data[\"temperature\"] < 20) & (Data[\"humidity\"] > 30)]['label'].unique())\n",
    "print(\"\\033[1;35m_____________________________\\033[0m\")\n",
    "print(\"\\033[1;31mRainy Crops\\033[0m\")\n",
    "print(Data[(Data[\"rainfall\"] > 200) & (Data[\"humidity\"] > 30)]['label'].unique())\n",
    "print(\"\\033[1;35m_____________________________\\033[0m\")"
   ]
  },
  {
   "cell_type": "markdown",
   "id": "dade390b",
   "metadata": {},
   "source": [
    "## We are done with EDA. It is time to find out the similar crops based on their soil and climatic conditions and for doing this we are going to use clustering analysis. Finding out the similar crops it can help the farmers in alternative farming.  Means more money"
   ]
  },
  {
   "cell_type": "code",
   "execution_count": 67,
   "id": "e895a232",
   "metadata": {
    "scrolled": false
   },
   "outputs": [
    {
     "name": "stdout",
     "output_type": "stream",
     "text": [
      "(2200, 7)\n"
     ]
    },
    {
     "data": {
      "text/html": [
       "<div>\n",
       "<style scoped>\n",
       "    .dataframe tbody tr th:only-of-type {\n",
       "        vertical-align: middle;\n",
       "    }\n",
       "\n",
       "    .dataframe tbody tr th {\n",
       "        vertical-align: top;\n",
       "    }\n",
       "\n",
       "    .dataframe thead th {\n",
       "        text-align: right;\n",
       "    }\n",
       "</style>\n",
       "<table border=\"1\" class=\"dataframe\">\n",
       "  <thead>\n",
       "    <tr style=\"text-align: right;\">\n",
       "      <th></th>\n",
       "      <th>0</th>\n",
       "      <th>1</th>\n",
       "      <th>2</th>\n",
       "      <th>3</th>\n",
       "      <th>4</th>\n",
       "      <th>5</th>\n",
       "      <th>6</th>\n",
       "    </tr>\n",
       "  </thead>\n",
       "  <tbody>\n",
       "    <tr>\n",
       "      <th>0</th>\n",
       "      <td>90.0</td>\n",
       "      <td>42.0</td>\n",
       "      <td>43.0</td>\n",
       "      <td>20.879744</td>\n",
       "      <td>6.502985</td>\n",
       "      <td>82.002744</td>\n",
       "      <td>202.935536</td>\n",
       "    </tr>\n",
       "    <tr>\n",
       "      <th>1</th>\n",
       "      <td>85.0</td>\n",
       "      <td>58.0</td>\n",
       "      <td>41.0</td>\n",
       "      <td>21.770462</td>\n",
       "      <td>7.038096</td>\n",
       "      <td>80.319644</td>\n",
       "      <td>226.655537</td>\n",
       "    </tr>\n",
       "    <tr>\n",
       "      <th>2</th>\n",
       "      <td>60.0</td>\n",
       "      <td>55.0</td>\n",
       "      <td>44.0</td>\n",
       "      <td>23.004459</td>\n",
       "      <td>7.840207</td>\n",
       "      <td>82.320763</td>\n",
       "      <td>263.964248</td>\n",
       "    </tr>\n",
       "    <tr>\n",
       "      <th>3</th>\n",
       "      <td>74.0</td>\n",
       "      <td>35.0</td>\n",
       "      <td>40.0</td>\n",
       "      <td>26.491096</td>\n",
       "      <td>6.980401</td>\n",
       "      <td>80.158363</td>\n",
       "      <td>242.864034</td>\n",
       "    </tr>\n",
       "    <tr>\n",
       "      <th>4</th>\n",
       "      <td>78.0</td>\n",
       "      <td>42.0</td>\n",
       "      <td>42.0</td>\n",
       "      <td>20.130175</td>\n",
       "      <td>7.628473</td>\n",
       "      <td>81.604873</td>\n",
       "      <td>262.717340</td>\n",
       "    </tr>\n",
       "  </tbody>\n",
       "</table>\n",
       "</div>"
      ],
      "text/plain": [
       "      0     1     2          3         4          5           6\n",
       "0  90.0  42.0  43.0  20.879744  6.502985  82.002744  202.935536\n",
       "1  85.0  58.0  41.0  21.770462  7.038096  80.319644  226.655537\n",
       "2  60.0  55.0  44.0  23.004459  7.840207  82.320763  263.964248\n",
       "3  74.0  35.0  40.0  26.491096  6.980401  80.158363  242.864034\n",
       "4  78.0  42.0  42.0  20.130175  7.628473  81.604873  262.717340"
      ]
     },
     "execution_count": 67,
     "metadata": {},
     "output_type": "execute_result"
    }
   ],
   "source": [
    "### We will try cluster for these crops Clustering is an unsupervised learning which means that we will not provide any labels\n",
    "## for training the data instead we will simply find out the similar data points by following existing patterns within the data.\n",
    "## We will use k means clustering.\n",
    "\n",
    "from sklearn.cluster import KMeans \n",
    "import warnings\n",
    "warnings.filterwarnings('ignore')\n",
    "## The code extracts specific columns (\"N\", \"P\", \"K\", \"temperature\", \"ph\", \"humidity\", \"rainfall\") from the DataFrame \n",
    "## named Data and converts them into a NumPy array, which is a data structure commonly used for numerical computations in Python\n",
    "## This allows for efficient handling and analysis of the selected agricultural condition parameters.\n",
    "x = Data.loc[:, [\"N\",\"P\",\"K\",\"temperature\",\"ph\",\"humidity\",\"rainfall\"]].values\n",
    "\n",
    "print(x.shape)\n",
    "\n",
    "# Let s convert this data into a dataframe\n",
    "x_data = pd.DataFrame(x)\n",
    "x_data.head()"
   ]
  },
  {
   "cell_type": "code",
   "execution_count": 68,
   "id": "100754b8",
   "metadata": {},
   "outputs": [
    {
     "data": {
      "image/png": "[encoded data removed]",
      "text/plain": [
       "<Figure size 720x288 with 1 Axes>"
      ]
     },
     "metadata": {},
     "output_type": "display_data"
    }
   ],
   "source": [
    "## We will determine the optimum number of clusters withing the Data Set\n",
    "\n",
    "plt.rcParams['figure.figsize'] = (10,4)\n",
    "\n",
    "wcss = []\n",
    "for i in range (1,11):\n",
    "    km = KMeans(n_clusters = i, init = \"k-means++\", max_iter =300, n_init = 10, random_state = 0 )\n",
    "    km.fit(x)\n",
    "    wcss.append(km.inertia_)\n",
    "    \n",
    "#Plot the results\n",
    "plt.plot(range(1,11), wcss)\n",
    "plt.title(\"The Elbow Method\", fontsize = 24, color =\"red\")\n",
    "plt.xlabel(\"Number of Clusters\")\n",
    "plt.ylabel('wcss')\n",
    "plt.show()"
   ]
  },
  {
   "cell_type": "markdown",
   "id": "b475a87d",
   "metadata": {},
   "source": [
    "# We can see that there are two elbows here first one is point three and second one is at point 4.We will simply choose to go with the latest elbow means 4. We will have four clusters in our data set."
   ]
  },
  {
   "cell_type": "code",
   "execution_count": 69,
   "id": "15f7e672",
   "metadata": {},
   "outputs": [
    {
     "name": "stdout",
     "output_type": "stream",
     "text": [
      "\u001b[1;31mLet's check the Results after Applying the K Means Clustering Analysis\u001b[0m\n",
      "Crops in First Cluster: ['maize' 'chickpea' 'kidneybeans' 'pigeonpeas' 'mothbeans' 'mungbean'\n",
      " 'blackgram' 'lentil' 'pomegranate' 'mango' 'orange' 'papaya' 'coconut']\n",
      "\u001b[1;35m......................................................\u001b[0m\n",
      "Crops in Second Cluster: ['maize' 'banana' 'watermelon' 'muskmelon' 'papaya' 'cotton' 'coffee']\n",
      "\u001b[1;35m......................................................\u001b[0m\n",
      "Crops in Third Cluster: ['grapes' 'apple']\n",
      "\u001b[1;35m......................................................\u001b[0m\n",
      "Crops in Forth Cluster: ['rice' 'pigeonpeas' 'papaya' 'coconut' 'jute' 'coffee']\n"
     ]
    }
   ],
   "source": [
    "# We will implement the K means algorithm to perform clustering analysis.\n",
    "km = KMeans(n_clusters =4, init = 'k-means++', max_iter = 300, n_init = 10, random_state =0)\n",
    "y_means = km.fit_predict(x)\n",
    "#We will traing data using this algorithm and store it in a variable called y means \n",
    "#Find the results\n",
    "a = Data[\"label\"]\n",
    "y_means = pd.DataFrame(y_means)\n",
    "c = pd.concat([y_means, a], axis = 1)\n",
    "c = c.rename(columns = {0: \"cluster\"})\n",
    "\n",
    "\n",
    "#Checking the Clusters of each crops\n",
    "print(\"\\033[1;31mLet's check the Results after Applying the K Means Clustering Analysis\\033[0m\")\n",
    "print(\"Crops in First Cluster:\", c[c[\"cluster\"] == 0][\"label\"].unique())\n",
    "print(\"\\033[1;35m......................................................\\033[0m\")\n",
    "print(\"Crops in Second Cluster:\", c[c[\"cluster\"] == 1][\"label\"].unique())\n",
    "print(\"\\033[1;35m......................................................\\033[0m\")\n",
    "print(\"Crops in Third Cluster:\", c[c[\"cluster\"] == 2][\"label\"].unique())\n",
    "print(\"\\033[1;35m......................................................\\033[0m\")\n",
    "print(\"Crops in Forth Cluster:\", c[c[\"cluster\"] == 3][\"label\"].unique())"
   ]
  },
  {
   "cell_type": "markdown",
   "id": "cfc914c5",
   "metadata": {},
   "source": [
    "## Crops in same clusters are similar to each other which in turn will help the farmers to choose alternate crops very easily and maximize their productivity."
   ]
  },
  {
   "cell_type": "code",
   "execution_count": 70,
   "id": "8978c38b",
   "metadata": {},
   "outputs": [
    {
     "data": {
      "image/png": "[encoded data removed]",
      "text/plain": [
       "<Figure size 1080x576 with 7 Axes>"
      ]
     },
     "metadata": {},
     "output_type": "display_data"
    }
   ],
   "source": [
    "## Visualizing the Impact of Different Conditions on Crops\n",
    "\n",
    "plt.rcParams['figure.figsize'] = (15, 8)\n",
    "\n",
    "plt.subplot(2, 4, 1)\n",
    "sns.barplot(Data['N'],Data['label'])\n",
    "plt.ylabel(' ')\n",
    "plt.xlabel('Ratio of Nitrogen', fontsize = 12, color='red')\n",
    "plt.yticks(fontsize = 12)\n",
    "\n",
    "plt.subplot(2, 4, 2)\n",
    "sns.barplot(Data['P'],Data['label'])\n",
    "plt.ylabel(' ')\n",
    "plt.xlabel('Ratio of Phosphorous', fontsize = 12, color='red')\n",
    "plt.yticks(fontsize = 12)\n",
    "\n",
    "plt.subplot(2, 4, 3)\n",
    "sns.barplot(Data['K'], Data['label'])\n",
    "plt.ylabel(' ')\n",
    "plt.xlabel('Ratio of Potassium', fontsize = 12, color='red')\n",
    "plt.yticks(fontsize = 12)\n",
    "\n",
    "plt.subplot(2, 4, 4)\n",
    "sns.barplot(Data['temperature'], Data['label'])\n",
    "plt.ylabel(' ')\n",
    "plt.xlabel('Temperature', fontsize = 12, color='red')\n",
    "plt.yticks(fontsize = 12)\n",
    "\n",
    "plt.subplot(2, 4, 5)\n",
    "sns.barplot(Data['humidity'], Data['label'])\n",
    "plt.ylabel(' ')\n",
    "plt.xlabel('Humidity', fontsize = 12, color='red')\n",
    "plt.yticks(fontsize = 12)\n",
    "\n",
    "plt.subplot(2, 4, 6)\n",
    "sns.barplot(Data['ph'], Data['label'])\n",
    "plt.ylabel(' ')\n",
    "plt.xlabel('PH of Soil', fontsize = 12, color='red')\n",
    "plt.yticks(fontsize = 12)\n",
    "\n",
    "plt.subplot(2, 4, 7)\n",
    "sns.barplot(Data['rainfall'], Data['label'])\n",
    "plt.ylabel(' ')\n",
    "plt.xlabel('Rainfall', fontsize = 12, color='red')\n",
    "plt.yticks(fontsize = 12)\n",
    "\n",
    "title_text = 'Visualizing the Impact of Different Conditions on Crops'\n",
    "plt.suptitle(title_text, fontsize=30, color='red')\n",
    "plt.show()"
   ]
  },
  {
   "cell_type": "code",
   "execution_count": 71,
   "id": "43891973",
   "metadata": {},
   "outputs": [
    {
     "name": "stdout",
     "output_type": "stream",
     "text": [
      "Shape of x: (2200, 7)\n",
      "Shape of y: (2200,)\n"
     ]
    }
   ],
   "source": [
    "## Now we will build a predictive model that can suggest the best crops according to the soil and the climatic conditions \n",
    "## available for specific region. We will develop machine learning model that can predict the most suitable crops.\n",
    "## We will evaulate model s performance. We will use Logistic Regression Model. It is a probabilistic model that works very well\n",
    "## in cases of likelihood and multiple classes(labels).\n",
    "\n",
    "\n",
    "# Let s split the Data set for Predictive Modelling\n",
    "# We can not keep both x and y sets together for training the model as we want to predict.\n",
    "# X will contain all the columns such as the ratio of N,K,P, temperature,humidity, rainfall, ph. Y will be name of labels.\n",
    "y = Data[\"label\"]\n",
    "x = Data.drop([\"label\"], axis = 1)\n",
    "\n",
    "print(\"Shape of x:\", x.shape)\n",
    "print(\"Shape of y:\", y.shape)\n",
    "\n"
   ]
  },
  {
   "cell_type": "code",
   "execution_count": 72,
   "id": "d19a21de",
   "metadata": {},
   "outputs": [
    {
     "name": "stdout",
     "output_type": "stream",
     "text": [
      "The Shape of X Train (1760, 7)\n",
      "The Shape of X Test (440, 7)\n",
      "The Shape of Y Train (1760,)\n",
      "The Shape of Y Test (440,)\n"
     ]
    }
   ],
   "source": [
    "#We will create training and testing sets for validation of results\n",
    "\n",
    "from sklearn.model_selection import train_test_split\n",
    "x_train, x_test, y_train, y_test = train_test_split(x,y, test_size = 0.2, random_state = 0)\n",
    "##%80 percentage of all the data will go into the training set and rest of the 20 percent it will go the testing set.\n",
    "\n",
    "print(\"The Shape of X Train\", x_train.shape)\n",
    "print(\"The Shape of X Test\", x_test.shape)\n",
    "print(\"The Shape of Y Train\", y_train.shape)\n",
    "print(\"The Shape of Y Test\", y_test.shape)"
   ]
  },
  {
   "cell_type": "code",
   "execution_count": 73,
   "id": "36e13e58",
   "metadata": {},
   "outputs": [],
   "source": [
    "# Creating Predictive Model\n",
    "\n",
    "from sklearn.linear_model import LogisticRegression\n",
    "model = LogisticRegression()\n",
    "model.fit(x_train, y_train)\n",
    "y_pred = model.predict(x_test)\n",
    "\n"
   ]
  },
  {
   "cell_type": "code",
   "execution_count": 74,
   "id": "5e4ff8ee",
   "metadata": {},
   "outputs": [
    {
     "name": "stdout",
     "output_type": "stream",
     "text": [
      "              precision    recall  f1-score   support\n",
      "\n",
      "       apple       1.00      1.00      1.00        18\n",
      "      banana       1.00      1.00      1.00        18\n",
      "   blackgram       0.86      0.82      0.84        22\n",
      "    chickpea       1.00      1.00      1.00        23\n",
      "     coconut       1.00      1.00      1.00        15\n",
      "      coffee       1.00      1.00      1.00        17\n",
      "      cotton       0.89      1.00      0.94        16\n",
      "      grapes       1.00      1.00      1.00        18\n",
      "        jute       0.84      1.00      0.91        21\n",
      " kidneybeans       1.00      1.00      1.00        20\n",
      "      lentil       0.94      0.94      0.94        17\n",
      "       maize       0.94      0.89      0.91        18\n",
      "       mango       1.00      1.00      1.00        21\n",
      "   mothbeans       0.88      0.92      0.90        25\n",
      "    mungbean       1.00      1.00      1.00        17\n",
      "   muskmelon       1.00      1.00      1.00        23\n",
      "      orange       1.00      1.00      1.00        23\n",
      "      papaya       1.00      0.95      0.98        21\n",
      "  pigeonpeas       1.00      1.00      1.00        22\n",
      " pomegranate       1.00      1.00      1.00        23\n",
      "        rice       1.00      0.84      0.91        25\n",
      "  watermelon       1.00      1.00      1.00        17\n",
      "\n",
      "    accuracy                           0.97       440\n",
      "   macro avg       0.97      0.97      0.97       440\n",
      "weighted avg       0.97      0.97      0.97       440\n",
      "\n"
     ]
    }
   ],
   "source": [
    "## Higher value of precision and recall hints towards a very good predictive model \n",
    "## Let's evaluate the model performance\n",
    "\n",
    "from sklearn.metrics import classification_report\n",
    "\n",
    "#Print the classification report\n",
    "\n",
    "ab = classification_report(y_test, y_pred)\n",
    "print(ab)\n",
    "\n"
   ]
  },
  {
   "cell_type": "markdown",
   "id": "57547a74",
   "metadata": {},
   "source": [
    "## We can say model is highly accurate. We are done with testing now we will do real time predictions."
   ]
  },
  {
   "cell_type": "code",
   "execution_count": 75,
   "id": "93abcfc8",
   "metadata": {},
   "outputs": [
    {
     "data": {
      "text/html": [
       "<div>\n",
       "<style scoped>\n",
       "    .dataframe tbody tr th:only-of-type {\n",
       "        vertical-align: middle;\n",
       "    }\n",
       "\n",
       "    .dataframe tbody tr th {\n",
       "        vertical-align: top;\n",
       "    }\n",
       "\n",
       "    .dataframe thead th {\n",
       "        text-align: right;\n",
       "    }\n",
       "</style>\n",
       "<table border=\"1\" class=\"dataframe\">\n",
       "  <thead>\n",
       "    <tr style=\"text-align: right;\">\n",
       "      <th></th>\n",
       "      <th>N</th>\n",
       "      <th>P</th>\n",
       "      <th>K</th>\n",
       "      <th>temperature</th>\n",
       "      <th>humidity</th>\n",
       "      <th>ph</th>\n",
       "      <th>rainfall</th>\n",
       "      <th>label</th>\n",
       "    </tr>\n",
       "  </thead>\n",
       "  <tbody>\n",
       "    <tr>\n",
       "      <th>0</th>\n",
       "      <td>90</td>\n",
       "      <td>42</td>\n",
       "      <td>43</td>\n",
       "      <td>20.879744</td>\n",
       "      <td>82.002744</td>\n",
       "      <td>6.502985</td>\n",
       "      <td>202.935536</td>\n",
       "      <td>rice</td>\n",
       "    </tr>\n",
       "    <tr>\n",
       "      <th>1</th>\n",
       "      <td>85</td>\n",
       "      <td>58</td>\n",
       "      <td>41</td>\n",
       "      <td>21.770462</td>\n",
       "      <td>80.319644</td>\n",
       "      <td>7.038096</td>\n",
       "      <td>226.655537</td>\n",
       "      <td>rice</td>\n",
       "    </tr>\n",
       "    <tr>\n",
       "      <th>2</th>\n",
       "      <td>60</td>\n",
       "      <td>55</td>\n",
       "      <td>44</td>\n",
       "      <td>23.004459</td>\n",
       "      <td>82.320763</td>\n",
       "      <td>7.840207</td>\n",
       "      <td>263.964248</td>\n",
       "      <td>rice</td>\n",
       "    </tr>\n",
       "    <tr>\n",
       "      <th>3</th>\n",
       "      <td>74</td>\n",
       "      <td>35</td>\n",
       "      <td>40</td>\n",
       "      <td>26.491096</td>\n",
       "      <td>80.158363</td>\n",
       "      <td>6.980401</td>\n",
       "      <td>242.864034</td>\n",
       "      <td>rice</td>\n",
       "    </tr>\n",
       "    <tr>\n",
       "      <th>4</th>\n",
       "      <td>78</td>\n",
       "      <td>42</td>\n",
       "      <td>42</td>\n",
       "      <td>20.130175</td>\n",
       "      <td>81.604873</td>\n",
       "      <td>7.628473</td>\n",
       "      <td>262.717340</td>\n",
       "      <td>rice</td>\n",
       "    </tr>\n",
       "  </tbody>\n",
       "</table>\n",
       "</div>"
      ],
      "text/plain": [
       "    N   P   K  temperature   humidity        ph    rainfall label\n",
       "0  90  42  43    20.879744  82.002744  6.502985  202.935536  rice\n",
       "1  85  58  41    21.770462  80.319644  7.038096  226.655537  rice\n",
       "2  60  55  44    23.004459  82.320763  7.840207  263.964248  rice\n",
       "3  74  35  40    26.491096  80.158363  6.980401  242.864034  rice\n",
       "4  78  42  42    20.130175  81.604873  7.628473  262.717340  rice"
      ]
     },
     "execution_count": 75,
     "metadata": {},
     "output_type": "execute_result"
    }
   ],
   "source": [
    "## Checking the Had of the Data set to do some predictions\n",
    "Data.head()\n"
   ]
  },
  {
   "cell_type": "code",
   "execution_count": 76,
   "id": "a1c53f2a",
   "metadata": {},
   "outputs": [
    {
     "name": "stdout",
     "output_type": "stream",
     "text": [
      "\u001b[1;35mThe Recommended Crop for the Given Climatic Condition is : \u001b[0m ['watermelon']\n"
     ]
    }
   ],
   "source": [
    "prediction = model.predict((np.array([[90,20,40,15,96,7,45]])))\n",
    "print(\"\\033[1;35mThe Recommended Crop for the Given Climatic Condition is : \\033[0m\", prediction)"
   ]
  },
  {
   "cell_type": "code",
   "execution_count": 77,
   "id": "52780dfa",
   "metadata": {},
   "outputs": [
    {
     "name": "stdout",
     "output_type": "stream",
     "text": [
      "\u001b[1;35mThe Recommended Crop for the Given Climatic Condition is : \u001b[0m ['coffee']\n"
     ]
    }
   ],
   "source": [
    "prediction = model.predict((np.array([[119,40,40,20,80,7,200]])))\n",
    "print(\"\\033[1;35mThe Recommended Crop for the Given Climatic Condition is : \\033[0m\", prediction)"
   ]
  },
  {
   "cell_type": "code",
   "execution_count": 78,
   "id": "78868ec5",
   "metadata": {},
   "outputs": [
    {
     "name": "stdout",
     "output_type": "stream",
     "text": [
      "\u001b[1;35mThe Recommended Crop for the Given Climatic Condition is : \u001b[0m ['papaya']\n"
     ]
    }
   ],
   "source": [
    "prediction = model.predict((np.array([[27,60,70,19,75,7,90]])))\n",
    "print(\"\\033[1;35mThe Recommended Crop for the Given Climatic Condition is : \\033[0m\", prediction)"
   ]
  },
  {
   "cell_type": "code",
   "execution_count": null,
   "id": "42e3b9cb",
   "metadata": {},
   "outputs": [],
   "source": []
  }
 ],
 "metadata": {
  "kernelspec": {
   "display_name": "Python 3",
   "language": "python",
   "name": "python3"
  },
  "language_info": {
   "codemirror_mode": {
    "name": "ipython",
    "version": 3
   },
   "file_extension": ".py",
   "mimetype": "text/x-python",
   "name": "python",
   "nbconvert_exporter": "python",
   "pygments_lexer": "ipython3",
   "version": "3.8.8"
  }
 },
 "nbformat": 4,
 "nbformat_minor": 5
}
